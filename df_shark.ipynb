{
 "cells": [
  {
   "cell_type": "markdown",
   "metadata": {},
   "source": [
    "<h5><b> DATA WRANGLING WITH PYTHON"
   ]
  },
  {
   "cell_type": "code",
   "execution_count": 1,
   "metadata": {},
   "outputs": [],
   "source": [
    "import pandas as pd\n",
    "from numpy import *\n",
    "import re\n",
    "import os\n",
    "from datetime import datetime\n",
    "import matplotlib.pyplot as plt\n",
    "import seaborn as sns"
   ]
  },
  {
   "cell_type": "code",
   "execution_count": 2,
   "metadata": {},
   "outputs": [
    {
     "data": {
      "text/html": [
       "<div>\n",
       "<style scoped>\n",
       "    .dataframe tbody tr th:only-of-type {\n",
       "        vertical-align: middle;\n",
       "    }\n",
       "\n",
       "    .dataframe tbody tr th {\n",
       "        vertical-align: top;\n",
       "    }\n",
       "\n",
       "    .dataframe thead th {\n",
       "        text-align: right;\n",
       "    }\n",
       "</style>\n",
       "<table border=\"1\" class=\"dataframe\">\n",
       "  <thead>\n",
       "    <tr style=\"text-align: right;\">\n",
       "      <th></th>\n",
       "      <th>Case Number</th>\n",
       "      <th>Date</th>\n",
       "      <th>Year</th>\n",
       "      <th>Type</th>\n",
       "      <th>Country</th>\n",
       "      <th>Area</th>\n",
       "      <th>Location</th>\n",
       "      <th>Activity</th>\n",
       "      <th>Name</th>\n",
       "      <th>Sex</th>\n",
       "      <th>...</th>\n",
       "      <th>Time</th>\n",
       "      <th>Species</th>\n",
       "      <th>Investigator or Source</th>\n",
       "      <th>pdf</th>\n",
       "      <th>href formula</th>\n",
       "      <th>href</th>\n",
       "      <th>Case Number.1</th>\n",
       "      <th>Case Number.2</th>\n",
       "      <th>Unnamed: 22</th>\n",
       "      <th>Unnamed: 23</th>\n",
       "    </tr>\n",
       "    <tr>\n",
       "      <th>original order</th>\n",
       "      <th></th>\n",
       "      <th></th>\n",
       "      <th></th>\n",
       "      <th></th>\n",
       "      <th></th>\n",
       "      <th></th>\n",
       "      <th></th>\n",
       "      <th></th>\n",
       "      <th></th>\n",
       "      <th></th>\n",
       "      <th></th>\n",
       "      <th></th>\n",
       "      <th></th>\n",
       "      <th></th>\n",
       "      <th></th>\n",
       "      <th></th>\n",
       "      <th></th>\n",
       "      <th></th>\n",
       "      <th></th>\n",
       "      <th></th>\n",
       "      <th></th>\n",
       "    </tr>\n",
       "  </thead>\n",
       "  <tbody>\n",
       "    <tr>\n",
       "      <td>6303.0</td>\n",
       "      <td>2018.06.25</td>\n",
       "      <td>25-Jun-2018</td>\n",
       "      <td>2018.0</td>\n",
       "      <td>Boating</td>\n",
       "      <td>USA</td>\n",
       "      <td>California</td>\n",
       "      <td>Oceanside, San Diego County</td>\n",
       "      <td>Paddling</td>\n",
       "      <td>Julie Wolfe</td>\n",
       "      <td>F</td>\n",
       "      <td>...</td>\n",
       "      <td>18h00</td>\n",
       "      <td>White shark</td>\n",
       "      <td>R. Collier, GSAF</td>\n",
       "      <td>2018.06.25-Wolfe.pdf</td>\n",
       "      <td>http://sharkattackfile.net/spreadsheets/pdf_di...</td>\n",
       "      <td>http://sharkattackfile.net/spreadsheets/pdf_di...</td>\n",
       "      <td>2018.06.25</td>\n",
       "      <td>2018.06.25</td>\n",
       "      <td>NaN</td>\n",
       "      <td>NaN</td>\n",
       "    </tr>\n",
       "    <tr>\n",
       "      <td>6302.0</td>\n",
       "      <td>2018.06.18</td>\n",
       "      <td>18-Jun-2018</td>\n",
       "      <td>2018.0</td>\n",
       "      <td>Unprovoked</td>\n",
       "      <td>USA</td>\n",
       "      <td>Georgia</td>\n",
       "      <td>St. Simon Island, Glynn County</td>\n",
       "      <td>Standing</td>\n",
       "      <td>Adyson McNeely</td>\n",
       "      <td>F</td>\n",
       "      <td>...</td>\n",
       "      <td>14h00  -15h00</td>\n",
       "      <td>NaN</td>\n",
       "      <td>K.McMurray, TrackingSharks.com</td>\n",
       "      <td>2018.06.18-McNeely.pdf</td>\n",
       "      <td>http://sharkattackfile.net/spreadsheets/pdf_di...</td>\n",
       "      <td>http://sharkattackfile.net/spreadsheets/pdf_di...</td>\n",
       "      <td>2018.06.18</td>\n",
       "      <td>2018.06.18</td>\n",
       "      <td>NaN</td>\n",
       "      <td>NaN</td>\n",
       "    </tr>\n",
       "  </tbody>\n",
       "</table>\n",
       "<p>2 rows × 23 columns</p>\n",
       "</div>"
      ],
      "text/plain": [
       "               Case Number         Date    Year        Type Country  \\\n",
       "original order                                                        \n",
       "6303.0          2018.06.25  25-Jun-2018  2018.0     Boating     USA   \n",
       "6302.0          2018.06.18  18-Jun-2018  2018.0  Unprovoked     USA   \n",
       "\n",
       "                      Area                        Location  Activity  \\\n",
       "original order                                                         \n",
       "6303.0          California     Oceanside, San Diego County  Paddling   \n",
       "6302.0             Georgia  St. Simon Island, Glynn County  Standing   \n",
       "\n",
       "                           Name Sex   ...           Time     Species   \\\n",
       "original order                        ...                               \n",
       "6303.0              Julie Wolfe    F  ...          18h00  White shark   \n",
       "6302.0          Adyson McNeely     F  ...  14h00  -15h00          NaN   \n",
       "\n",
       "                        Investigator or Source                     pdf  \\\n",
       "original order                                                           \n",
       "6303.0                        R. Collier, GSAF    2018.06.25-Wolfe.pdf   \n",
       "6302.0          K.McMurray, TrackingSharks.com  2018.06.18-McNeely.pdf   \n",
       "\n",
       "                                                     href formula  \\\n",
       "original order                                                      \n",
       "6303.0          http://sharkattackfile.net/spreadsheets/pdf_di...   \n",
       "6302.0          http://sharkattackfile.net/spreadsheets/pdf_di...   \n",
       "\n",
       "                                                             href  \\\n",
       "original order                                                      \n",
       "6303.0          http://sharkattackfile.net/spreadsheets/pdf_di...   \n",
       "6302.0          http://sharkattackfile.net/spreadsheets/pdf_di...   \n",
       "\n",
       "               Case Number.1 Case Number.2 Unnamed: 22 Unnamed: 23  \n",
       "original order                                                      \n",
       "6303.0            2018.06.25    2018.06.25         NaN         NaN  \n",
       "6302.0            2018.06.18    2018.06.18         NaN         NaN  \n",
       "\n",
       "[2 rows x 23 columns]"
      ]
     },
     "execution_count": 2,
     "metadata": {},
     "output_type": "execute_result"
    }
   ],
   "source": [
    "#Import Dataframe\n",
    "df = pd.read_csv('./attacks.csv', encoding = 'latin-1', index_col= 'original order').dropna(how = 'all')\n",
    "df.head(2)"
   ]
  },
  {
   "cell_type": "code",
   "execution_count": 3,
   "metadata": {},
   "outputs": [],
   "source": [
    "# remove lines with more than 75% missing\n",
    "df.dropna(thresh=round(df.shape[1] * 0.75), inplace = True)\n",
    "\n",
    "# rename columns\n",
    "df.columns = df.columns.str.lower().str.rstrip().str.replace(' ', \"_\")\n",
    "\n",
    "#delete columns\n",
    "df.drop(columns=['case_number.1', 'case_number.2', 'unnamed:_22', 'unnamed:_23', 'href_formula'], inplace = True)"
   ]
  },
  {
   "cell_type": "code",
   "execution_count": 4,
   "metadata": {},
   "outputs": [],
   "source": [
    "#column 'case_number'\n",
    "df.loc[df.case_number.isna(), ['case_number']] = '1905.09.06-R'"
   ]
  },
  {
   "cell_type": "code",
   "execution_count": 5,
   "metadata": {},
   "outputs": [
    {
     "data": {
      "text/plain": [
       "Jul    627\n",
       "Aug    571\n",
       "Sep    527\n",
       "Jan    494\n",
       "Jun    470\n",
       "Oct    425\n",
       "Apr    425\n",
       "Dec    417\n",
       "Mar    387\n",
       "Nov    376\n",
       "May    368\n",
       "Feb    359\n",
       "Name: month, dtype: int64"
      ]
     },
     "execution_count": 5,
     "metadata": {},
     "output_type": "execute_result"
    }
   ],
   "source": [
    "#create column 'month' \n",
    "month_to_year = ['Jan', 'Feb', 'Mar', 'Apr', 'May', 'Jun', 'Jul', 'Aug', 'Sep', 'Oct', 'Nov', 'Dec']\n",
    "df['month'] = NaN\n",
    "\n",
    "for month in month_to_year:\n",
    "    df.loc[df.date.str.contains(month, case= False), ['month']] = month\n",
    "\n",
    "#'month' as 'category'\n",
    "df.month = df.month.astype('category')\n",
    "\n",
    "#'date' as \"date\"\n",
    "df.date = pd.to_datetime(df.date, errors='coerce')\n",
    "\n",
    "df.month.value_counts().nlargest(12)"
   ]
  },
  {
   "cell_type": "code",
   "execution_count": 6,
   "metadata": {},
   "outputs": [],
   "source": [
    "#column 'year'\n",
    "#fill values NaN\n",
    "df.year.fillna(0, inplace = True)\n",
    "\n",
    "#'year' as 'int'\n",
    "df.year = df.year.astype(int)"
   ]
  },
  {
   "cell_type": "code",
   "execution_count": 7,
   "metadata": {},
   "outputs": [
    {
     "data": {
      "text/plain": [
       "<matplotlib.axes._subplots.AxesSubplot at 0x2422b921188>"
      ]
     },
     "execution_count": 7,
     "metadata": {},
     "output_type": "execute_result"
    },
    {
     "data": {
      "image/png": "[encoded data removed]",
      "text/plain": [
       "<Figure size 432x288 with 1 Axes>"
      ]
     },
     "metadata": {
      "needs_background": "light"
     },
     "output_type": "display_data"
    }
   ],
   "source": [
    "#create graphic: number of attacks per year from 1900  (95% confidence interval by default)\n",
    "\n",
    "to_years = list(range(1900, 2020, 1))\n",
    "n_attacks = []\n",
    "for year in to_years:\n",
    "    n = (df.year == year).sum()\n",
    "    n_attacks.append(n)\n",
    "    \n",
    "#attacks number by year\n",
    "sns.regplot(x = to_years, y = n_attacks)"
   ]
  },
  {
   "cell_type": "code",
   "execution_count": 8,
   "metadata": {},
   "outputs": [
    {
     "data": {
      "text/plain": [
       "Surfing     1254\n",
       "Swimming    1078\n",
       "Fishing      725\n",
       "Name: activity, dtype: int64"
      ]
     },
     "execution_count": 8,
     "metadata": {},
     "output_type": "execute_result"
    }
   ],
   "source": [
    "#column 'activity'\n",
    "#fill values NaN\n",
    "df.activity.fillna('Unknow', inplace = True)\n",
    "\n",
    "practive = {'surf': 'Surfing', 'swim': 'Swimming', 'spear': 'Spear', 'fish': 'Fishing', 'stand': 'Standing', 'divin': 'Diving',\n",
    "            'wadin': 'Wading', 'padd': 'Padding', 'feeding': 'Feeding Sharks', 'snork': 'Snorkeling', 'board': 'Body boarding',\n",
    "           'kayak': 'Kayaking', 'treading': 'Treading water', 'walk':'walking', 'float':'Floating', 'rowing': 'Rowing',\n",
    "           'can[oe]ing': 'Canoeing'}\n",
    "\n",
    "\n",
    "# group values\n",
    "for key, value in practive.items():\n",
    "    df.loc[df.activity.str.contains(key, case= False), ['activity']] = value\n",
    "\n",
    "#'activity' as 'category'\n",
    "df.activity = df.activity.astype('category')\n",
    "\n",
    "#df.query(\"activity not in ['Surfing', 'Swimming', 'Fishing', 'Standing', 'Diving', 'Wading', 'Unknow', 'Padding', 'Feeding Sharks', 'Snorkeling', 'Spear', 'Body boarding']\")\n",
    "df.loc[df.activity == 'Unknow', ['activity']] = NaN\n",
    "df['activity'].value_counts().nlargest(3)\n",
    "#df['activity'] = df.activity.where(df.activity.isin(top_four), other='OTHER')\n",
    "\n",
    "\n"
   ]
  },
  {
   "cell_type": "code",
   "execution_count": 9,
   "metadata": {},
   "outputs": [],
   "source": [
    "#column 'sex'\n",
    "#fill values NaN\n",
    "df.sex.fillna('Unknow', inplace = True)\n",
    "\n",
    "#assign values: M, F or Unknow\n",
    "df.sex = df.sex.str.upper().str.replace('\\s', '').str.replace('\\W', 'Unknow').str.replace('N', 'M').str.replace('LLI', 'Unknow')\n",
    "\n",
    "#'sex' as 'category'\n",
    "df.sex = df.sex.astype('category')"
   ]
  },
  {
   "cell_type": "code",
   "execution_count": 10,
   "metadata": {},
   "outputs": [],
   "source": [
    "#column 'age'\n",
    "\n",
    "#change values to numeric\n",
    "df['age'] = pd.to_numeric(df['age'], 'coerce')\n",
    "\n",
    "#fill values NaN\n",
    "df.age.fillna(0, inplace=True)\n",
    "\n",
    "#'age' as 'int'\n",
    "df.age = df.age.astype('int')"
   ]
  },
  {
   "cell_type": "code",
   "execution_count": 11,
   "metadata": {},
   "outputs": [
    {
     "data": {
      "image/png": "[encoded data removed]",
      "text/plain": [
       "<Figure size 432x288 with 1 Axes>"
      ]
     },
     "metadata": {
      "needs_background": "light"
     },
     "output_type": "display_data"
    }
   ],
   "source": [
    "age = df.loc[df.age != 0 & (df.year > 1900), ['age']]\n",
    "\n",
    "sns.distplot(age, rug = True);"
   ]
  },
  {
   "cell_type": "code",
   "execution_count": 12,
   "metadata": {},
   "outputs": [
    {
     "data": {
      "text/plain": [
       "Unprovoked      4379\n",
       "Provoked         560\n",
       "Invalid          460\n",
       "Boating          302\n",
       "Sea Disaster     171\n",
       "Questionable       2\n",
       "Name: type, dtype: int64"
      ]
     },
     "execution_count": 12,
     "metadata": {},
     "output_type": "execute_result"
    }
   ],
   "source": [
    "#column 'type'\n",
    "\n",
    "#fill values NaN\n",
    "df.type.fillna('Invalid', inplace = True)\n",
    "\n",
    "# group values\n",
    "df.loc[df.type.str.contains('boat', case= False), ['type']] = 'Boating'\n",
    "\n",
    "#'type' as 'category'\n",
    "df.type = df.type.astype('category')\n",
    "\n",
    "df.type.value_counts().nlargest(12)"
   ]
  },
  {
   "cell_type": "code",
   "execution_count": 13,
   "metadata": {},
   "outputs": [],
   "source": [
    "#column 'fatal'\n",
    "\n",
    "#rename column\n",
    "df.rename(columns={'fatal_(y/n)': 'fatal'}, inplace=True)\n",
    "\n",
    "#assign values\n",
    "df.loc[(df.injury.str.contains('^fatal', case= False)) & (df.fatal.isna()), ['fatal']] = 'Y'\n",
    "\n",
    "#fill values NaN\n",
    "df.fatal = df.fatal.fillna('UNKNOWN').str.replace('\\s','').str.upper().str.replace('M','N').str.replace('\\d+','UNKNOWN')\n",
    "\n",
    "#'fatal' as 'category'\n",
    "df.fatal = df.fatal.astype('category')"
   ]
  },
  {
   "cell_type": "code",
   "execution_count": 14,
   "metadata": {},
   "outputs": [
    {
     "data": {
      "text/plain": [
       "White Shark       658\n",
       "Tiger Shark       276\n",
       "Bull Shark        183\n",
       "Blacktip Shark    108\n",
       "Nurse Shark        96\n",
       "Name: species, dtype: int64"
      ]
     },
     "execution_count": 14,
     "metadata": {},
     "output_type": "execute_result"
    }
   ],
   "source": [
    "#column 'species'\n",
    "\n",
    "#fill values NaN\n",
    "df.species.fillna('Unknow', inplace = True)\n",
    "\n",
    "to_species = {'white': 'White Shark', 'bull': 'Bull Shark', 'tiger': 'Tiger Shark', 'lemon': 'Lemon Shark', 'pointer': 'Mako Shark',\n",
    "             'nurse': 'Nurse Shark', 'gr[ea]y': 'Grey Reef Shark', 'black': 'Blacktip Shark', 'wob':'Wobbegong Shark', 'juvenil':'Juvenile Shark',\n",
    "             'ragge':'Raggedtooth Shark', 'Bronze':'Bronze Whaler Shark', 'hammer':'Hammerhead Shark', 'mako': 'Mako Shark', 'dog': 'Dog Shark',\n",
    "             'zamb':'Zambesi Shark', 'seven': 'Sevengill Shark', 'blue':'Blue Shark', 'sand': 'Sand Shark', 'gummy': 'Gummy Shark', 'brown':'Brown Shark', \n",
    "             'dusk': 'Dusky Shark'}\n",
    "\n",
    "#group values\n",
    "for key, value in to_species.items():\n",
    "    df.loc[df.species.str.contains(key, case= False), ['species']] = value\n",
    "\n",
    "#'species' as 'category'\n",
    "df.species = df.species.astype('category')\n",
    "\n",
    "df.loc[df.species == 'Invalid', ['species']] = NaN\n",
    "df.loc[df.species == 'Unknow', ['species']] = NaN\n",
    "df.species.value_counts().nlargest(5)"
   ]
  },
  {
   "cell_type": "code",
   "execution_count": 15,
   "metadata": {},
   "outputs": [
    {
     "name": "stderr",
     "output_type": "stream",
     "text": [
      "C:\\Users\\renat\\AppData\\Local\\Continuum\\anaconda3\\lib\\site-packages\\IPython\\core\\interactiveshell.py:3058: DtypeWarning: Columns (2) have mixed types. Specify dtype option on import or set low_memory=False.\n",
      "  interactivity=interactivity, compiler=compiler, result=result)\n"
     ]
    },
    {
     "data": {
      "text/html": [
       "<div>\n",
       "<style scoped>\n",
       "    .dataframe tbody tr th:only-of-type {\n",
       "        vertical-align: middle;\n",
       "    }\n",
       "\n",
       "    .dataframe tbody tr th {\n",
       "        vertical-align: top;\n",
       "    }\n",
       "\n",
       "    .dataframe thead th {\n",
       "        text-align: right;\n",
       "    }\n",
       "</style>\n",
       "<table border=\"1\" class=\"dataframe\">\n",
       "  <thead>\n",
       "    <tr style=\"text-align: right;\">\n",
       "      <th></th>\n",
       "      <th>country</th>\n",
       "      <th>cost</th>\n",
       "    </tr>\n",
       "  </thead>\n",
       "  <tbody>\n",
       "    <tr>\n",
       "      <td>0</td>\n",
       "      <td>Canada</td>\n",
       "      <td>202,08</td>\n",
       "    </tr>\n",
       "    <tr>\n",
       "      <td>1</td>\n",
       "      <td>Norway</td>\n",
       "      <td>58,133</td>\n",
       "    </tr>\n",
       "    <tr>\n",
       "      <td>2</td>\n",
       "      <td>Indonesia</td>\n",
       "      <td>54,72</td>\n",
       "    </tr>\n",
       "    <tr>\n",
       "      <td>3</td>\n",
       "      <td>Greenland</td>\n",
       "      <td>44,087</td>\n",
       "    </tr>\n",
       "    <tr>\n",
       "      <td>4</td>\n",
       "      <td>Russia</td>\n",
       "      <td>37,653</td>\n",
       "    </tr>\n",
       "  </tbody>\n",
       "</table>\n",
       "</div>"
      ],
      "text/plain": [
       "     country    cost\n",
       "0     Canada  202,08\n",
       "1     Norway  58,133\n",
       "2  Indonesia   54,72\n",
       "3  Greenland  44,087\n",
       "4     Russia  37,653"
      ]
     },
     "execution_count": 15,
     "metadata": {},
     "output_type": "execute_result"
    }
   ],
   "source": [
    "#import country files\n",
    "countries = pd.read_csv('./mar.csv', sep=';', encoding='latin-1', usecols= ['The World Factbook[3] km', 'Country'])\n",
    "countries.rename(columns={'The World Factbook[3] km': 'cost'}, inplace=True)\n",
    "countries.dropna(inplace = True)\n",
    "countries.loc[countries.Country.str.contains('United States$'), ['Country']] = 'EUA'\n",
    "countries.loc[countries.Country.str.contains('aham'), ['Country']] = 'Bahamas'\n",
    "\n",
    "countries_list = list(countries.Country)\n",
    "\n",
    "# rename columns\n",
    "countries.columns = countries.columns.str.lower().str.rstrip().str.replace(' ', \"_\")\n",
    "\n",
    "countries.head()"
   ]
  },
  {
   "cell_type": "code",
   "execution_count": 16,
   "metadata": {},
   "outputs": [
    {
     "name": "stderr",
     "output_type": "stream",
     "text": [
      "C:\\Users\\renat\\AppData\\Local\\Continuum\\anaconda3\\lib\\site-packages\\pandas\\core\\strings.py:1843: UserWarning: This pattern has match groups. To actually get the groups, use str.extract.\n",
      "  return func(self, *args, **kwargs)\n"
     ]
    }
   ],
   "source": [
    "#column 'country'\n",
    "\n",
    "#fill values NaN\n",
    "df.country.fillna('Unknow', inplace = True)\n",
    "\n",
    "#group values\n",
    "for values in countries_list:\n",
    "    df.loc[df.country.str.contains(values, case= False), ['country']] = values\n",
    "\n",
    "#'country' as 'category'\n",
    "df.country = df.country.astype('category')"
   ]
  },
  {
   "cell_type": "code",
   "execution_count": 17,
   "metadata": {},
   "outputs": [
    {
     "data": {
      "text/plain": [
       "USA                 337\n",
       "Australia           157\n",
       "South Africa         38\n",
       "Bahamas              25\n",
       "Brazil               14\n",
       "Spain                13\n",
       "REUNION              12\n",
       "French Polynesia     12\n",
       "New Caledonia        10\n",
       "New Zealand           9\n",
       "Name: country, dtype: int64"
      ]
     },
     "execution_count": 17,
     "metadata": {},
     "output_type": "execute_result"
    }
   ],
   "source": [
    "top_ten = df.country.where(df.year.between(2013, 2018)).value_counts().nlargest(10)\n",
    "eixo_x = [i for i in top_ten.index]\n",
    "eixo_y = [i for i in top_ten.values]\n",
    "\n",
    "top_ten\n"
   ]
  },
  {
   "cell_type": "code",
   "execution_count": 18,
   "metadata": {},
   "outputs": [
    {
     "data": {
      "text/plain": [
       "<matplotlib.axes._subplots.AxesSubplot at 0x2422c189d88>"
      ]
     },
     "execution_count": 18,
     "metadata": {},
     "output_type": "execute_result"
    },
    {
     "data": {
      "image/png": "[encoded data removed]",
      "text/plain": [
       "<Figure size 432x288 with 1 Axes>"
      ]
     },
     "metadata": {
      "needs_background": "light"
     },
     "output_type": "display_data"
    }
   ],
   "source": [
    "sns.barplot(x=eixo_y, y=eixo_x)\n",
    "# country ranking between 2013 and 2018"
   ]
  },
  {
   "cell_type": "code",
   "execution_count": 19,
   "metadata": {},
   "outputs": [
    {
     "data": {
      "text/plain": [
       "Afternoon    1106\n",
       "Morning       976\n",
       "Evening       218\n",
       "Night          39\n",
       "Name: part_day, dtype: int64"
      ]
     },
     "execution_count": 19,
     "metadata": {},
     "output_type": "execute_result"
    }
   ],
   "source": [
    "#create column 'part_day'\n",
    "\n",
    "#fill values NaN from 'time'\n",
    "df.time.fillna(0, inplace= True)\n",
    "\n",
    "\n",
    "parts_day = ['Morning', 'Afternoon', 'Evening', 'Night']\n",
    "df.time = df.time.str.replace('h[0-9][0-9].*' , '')\n",
    "df.time.fillna('Unknow', inplace=True)\n",
    "\n",
    "df['part_day'] = 'Unknow'\n",
    "\n",
    "#assign values\n",
    "for period in parts_day:\n",
    "    df.loc[df.country.str.contains(period, case= False), ['part_day']] = period\n",
    "\n",
    "#'time' as 'numeric'    \n",
    "df['time'] = pd.to_numeric(df['time'], 'coerce')\n",
    "\n",
    "#assign remaining values\n",
    "df.loc[df.time.between(5, 12), ['part_day']] = 'Morning'\n",
    "df.loc[df.time.between(13, 17), ['part_day']] = 'Afternoon'\n",
    "df.loc[df.time.between(18, 21), ['part_day']] = 'Evening'\n",
    "df.loc[df.time.between(22, 23) | (df.time.between(0, 4)) , ['part_day']] = 'Night'\n",
    "\n",
    "#'part_day' as 'category'\n",
    "df.part_day = df.part_day.astype('category')\n",
    "\n",
    "df.loc[df.part_day == 'Unknow', ['part_day']] = NaN\n",
    "df.part_day.value_counts().nlargest(4)"
   ]
  },
  {
   "cell_type": "code",
   "execution_count": 20,
   "metadata": {},
   "outputs": [
    {
     "data": {
      "text/plain": [
       "Pernambuco              73\n",
       "Rio de Janeiro           8\n",
       "Maranhão                 5\n",
       "Bahia                    3\n",
       "Rio Grande de Norte      2\n",
       "Alagoas                  2\n",
       "Fernando de Noronha      1\n",
       "Paraiba                  1\n",
       "Porto Seguro             1\n",
       "Boi Island, Victoria     1\n",
       "Name: area, dtype: int64"
      ]
     },
     "execution_count": 20,
     "metadata": {},
     "output_type": "execute_result"
    }
   ],
   "source": [
    "# number of attack in Brazil\n",
    "df.area.where(df.country == 'Brazil').value_counts().nlargest(10)"
   ]
  },
  {
   "cell_type": "code",
   "execution_count": 21,
   "metadata": {},
   "outputs": [
    {
     "data": {
      "text/html": [
       "<div>\n",
       "<style scoped>\n",
       "    .dataframe tbody tr th:only-of-type {\n",
       "        vertical-align: middle;\n",
       "    }\n",
       "\n",
       "    .dataframe tbody tr th {\n",
       "        vertical-align: top;\n",
       "    }\n",
       "\n",
       "    .dataframe thead th {\n",
       "        text-align: right;\n",
       "    }\n",
       "</style>\n",
       "<table border=\"1\" class=\"dataframe\">\n",
       "  <thead>\n",
       "    <tr style=\"text-align: right;\">\n",
       "      <th></th>\n",
       "      <th>case_number</th>\n",
       "      <th>date</th>\n",
       "      <th>year</th>\n",
       "      <th>type</th>\n",
       "      <th>country</th>\n",
       "      <th>area</th>\n",
       "      <th>location</th>\n",
       "      <th>activity</th>\n",
       "      <th>name</th>\n",
       "      <th>sex</th>\n",
       "      <th>...</th>\n",
       "      <th>injury</th>\n",
       "      <th>fatal</th>\n",
       "      <th>time</th>\n",
       "      <th>species</th>\n",
       "      <th>investigator_or_source</th>\n",
       "      <th>pdf</th>\n",
       "      <th>href</th>\n",
       "      <th>month</th>\n",
       "      <th>part_day</th>\n",
       "      <th>cost</th>\n",
       "    </tr>\n",
       "  </thead>\n",
       "  <tbody>\n",
       "    <tr>\n",
       "      <td>2064</td>\n",
       "      <td>2017.07.27</td>\n",
       "      <td>2017-07-27</td>\n",
       "      <td>2017</td>\n",
       "      <td>Unprovoked</td>\n",
       "      <td>Bahamas</td>\n",
       "      <td>New Providence District</td>\n",
       "      <td>Rose Island</td>\n",
       "      <td>Snorkeling</td>\n",
       "      <td>female</td>\n",
       "      <td>F</td>\n",
       "      <td>...</td>\n",
       "      <td>Foot &amp; ankle injured</td>\n",
       "      <td>N</td>\n",
       "      <td>NaN</td>\n",
       "      <td>NaN</td>\n",
       "      <td>R. Rolle, Tribune 242,  7/28/2017</td>\n",
       "      <td>2017.07.27-Bahamas.pdf</td>\n",
       "      <td>http://sharkattackfile.net/spreadsheets/pdf_di...</td>\n",
       "      <td>Jul</td>\n",
       "      <td>NaN</td>\n",
       "      <td>3542</td>\n",
       "    </tr>\n",
       "    <tr>\n",
       "      <td>2322</td>\n",
       "      <td>1999.12.31.a</td>\n",
       "      <td>1999-12-31</td>\n",
       "      <td>1999</td>\n",
       "      <td>Unprovoked</td>\n",
       "      <td>New Zealand</td>\n",
       "      <td>South Island</td>\n",
       "      <td>Oreti Beach</td>\n",
       "      <td>Bathing</td>\n",
       "      <td>Genna Hayward</td>\n",
       "      <td>F</td>\n",
       "      <td>...</td>\n",
       "      <td>A cut on her hand</td>\n",
       "      <td>N</td>\n",
       "      <td>NaN</td>\n",
       "      <td>Sevengill Shark</td>\n",
       "      <td>R.D. Weeks, GSAF; The Otago Daily Times, 1/2/2000</td>\n",
       "      <td>1999.12.31.a-Hayward.pdf</td>\n",
       "      <td>http://sharkattackfile.net/spreadsheets/pdf_di...</td>\n",
       "      <td>Dec</td>\n",
       "      <td>NaN</td>\n",
       "      <td>15134</td>\n",
       "    </tr>\n",
       "    <tr>\n",
       "      <td>65</td>\n",
       "      <td>2016.06.15.a</td>\n",
       "      <td>2016-06-15</td>\n",
       "      <td>2016</td>\n",
       "      <td>Provoked</td>\n",
       "      <td>Australia</td>\n",
       "      <td>Western Australia</td>\n",
       "      <td>Coral Bay</td>\n",
       "      <td>Spear</td>\n",
       "      <td>Brad Vale</td>\n",
       "      <td>M</td>\n",
       "      <td>...</td>\n",
       "      <td>No injury but shark punctured his wetsuit afte...</td>\n",
       "      <td>N</td>\n",
       "      <td>NaN</td>\n",
       "      <td>5' shark</td>\n",
       "      <td>Perth Now, 6/16/2016</td>\n",
       "      <td>2016.06.15.a-Vale.pdf</td>\n",
       "      <td>http://sharkattackfile.net/spreadsheets/pdf_di...</td>\n",
       "      <td>Jun</td>\n",
       "      <td>NaN</td>\n",
       "      <td>2576</td>\n",
       "    </tr>\n",
       "  </tbody>\n",
       "</table>\n",
       "<p>3 rows × 21 columns</p>\n",
       "</div>"
      ],
      "text/plain": [
       "       case_number       date  year        type      country  \\\n",
       "2064    2017.07.27 2017-07-27  2017  Unprovoked      Bahamas   \n",
       "2322  1999.12.31.a 1999-12-31  1999  Unprovoked  New Zealand   \n",
       "65    2016.06.15.a 2016-06-15  2016    Provoked    Australia   \n",
       "\n",
       "                         area     location    activity            name sex  \\\n",
       "2064  New Providence District  Rose Island  Snorkeling          female   F   \n",
       "2322             South Island  Oreti Beach     Bathing  Genna Hayward    F   \n",
       "65          Western Australia    Coral Bay       Spear       Brad Vale   M   \n",
       "\n",
       "      ...                                             injury fatal time  \\\n",
       "2064  ...                               Foot & ankle injured     N  NaN   \n",
       "2322  ...                                  A cut on her hand     N  NaN   \n",
       "65    ...  No injury but shark punctured his wetsuit afte...     N  NaN   \n",
       "\n",
       "              species                             investigator_or_source  \\\n",
       "2064              NaN                  R. Rolle, Tribune 242,  7/28/2017   \n",
       "2322  Sevengill Shark  R.D. Weeks, GSAF; The Otago Daily Times, 1/2/2000   \n",
       "65           5' shark                               Perth Now, 6/16/2016   \n",
       "\n",
       "                           pdf  \\\n",
       "2064    2017.07.27-Bahamas.pdf   \n",
       "2322  1999.12.31.a-Hayward.pdf   \n",
       "65       2016.06.15.a-Vale.pdf   \n",
       "\n",
       "                                                   href month part_day   cost  \n",
       "2064  http://sharkattackfile.net/spreadsheets/pdf_di...   Jul      NaN   3542  \n",
       "2322  http://sharkattackfile.net/spreadsheets/pdf_di...   Dec      NaN  15134  \n",
       "65    http://sharkattackfile.net/spreadsheets/pdf_di...   Jun      NaN   2576  \n",
       "\n",
       "[3 rows x 21 columns]"
      ]
     },
     "execution_count": 21,
     "metadata": {},
     "output_type": "execute_result"
    }
   ],
   "source": [
    "#concat columns 'cost' in 'df'\n",
    "df = df.merge(countries, how = 'inner', on = 'country')\n",
    "\n",
    "df.cost = df.cost.str.replace(',', '')\n",
    "df.sample(3)"
   ]
  },
  {
   "cell_type": "code",
   "execution_count": 22,
   "metadata": {},
   "outputs": [
    {
     "data": {
      "text/plain": [
       "2576     1285\n",
       "2798      562\n",
       "15134     122\n",
       "7491      104\n",
       "3542      103\n",
       "         ... \n",
       "1288        1\n",
       "1572        1\n",
       "16          1\n",
       "885         1\n",
       "998         1\n",
       "Name: cost, Length: 65, dtype: int64"
      ]
     },
     "execution_count": 22,
     "metadata": {},
     "output_type": "execute_result"
    }
   ],
   "source": [
    "#'part_day' as 'category'\n",
    "df.cost = df.cost.astype('category')\n",
    "\n",
    "eixos = df.cost.value_counts() #km of cost by attack number\n",
    "\n",
    "eixos"
   ]
  },
  {
   "cell_type": "code",
   "execution_count": 30,
   "metadata": {},
   "outputs": [
    {
     "data": {
      "text/plain": [
       "<matplotlib.axes._subplots.AxesSubplot at 0x2422bc29fc8>"
      ]
     },
     "execution_count": 30,
     "metadata": {},
     "output_type": "execute_result"
    },
    {
     "data": {
      "image/png": "[encoded data removed]",
      "text/plain": [
       "<Figure size 432x288 with 1 Axes>"
      ]
     },
     "metadata": {
      "needs_background": "light"
     },
     "output_type": "display_data"
    }
   ],
   "source": [
    "# correlation between coast and attacks\n",
    "list_x = []\n",
    "list_y = []\n",
    "\n",
    "for i in eixos.index:\n",
    "    list_x.append(i)\n",
    "    \n",
    "for i in eixos.values:\n",
    "    list_y.append(i)\n",
    "\n",
    "list_x = [int(elem) for elem in list_x]\n",
    "\n",
    "\n",
    "#cost(km, country) by attacks number\n",
    "sns.regplot(x = list_x, y = list_y)"
   ]
  },
  {
   "cell_type": "code",
   "execution_count": 35,
   "metadata": {},
   "outputs": [
    {
     "data": {
      "text/plain": [
       "array([[ 1.        , -0.02817185],\n",
       "       [-0.02817185,  1.        ]])"
      ]
     },
     "execution_count": 35,
     "metadata": {},
     "output_type": "execute_result"
    }
   ],
   "source": [
    "#calculo de correlação (km of cost and attack number)\n",
    "\n",
    "corrcoef(list_x, list_y)"
   ]
  },
  {
   "cell_type": "code",
   "execution_count": null,
   "metadata": {},
   "outputs": [],
   "source": []
  }
 ],
 "metadata": {
  "kernelspec": {
   "display_name": "Python 3",
   "language": "python",
   "name": "python3"
  },
  "language_info": {
   "codemirror_mode": {
    "name": "ipython",
    "version": 3
   },
   "file_extension": ".py",
   "mimetype": "text/x-python",
   "name": "python",
   "nbconvert_exporter": "python",
   "pygments_lexer": "ipython3",
   "version": "3.7.4"
  }
 },
 "nbformat": 4,
 "nbformat_minor": 2
}
